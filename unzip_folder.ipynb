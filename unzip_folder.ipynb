{
 "cells": [
  {
   "cell_type": "code",
   "execution_count": 1,
   "id": "befd324b",
   "metadata": {},
   "outputs": [],
   "source": [
    "# extract zip folder into a new folder\n",
    "import zipfile\n",
    "import os\n",
    "\n",
    "zip_file_path = \"original_data/Appraisal_Roll_History_1990.zip\"\n",
    "extract_folder_path = \"data\"\n",
    "\n",
    "# Create the extract folder if it doesn't exist\n",
    "if not os.path.exists(extract_folder_path):\n",
    "    os.makedirs(extract_folder_path)\n",
    "\n",
    "# Open the zip file and extract its contents to the extract folder\n",
    "with zipfile.ZipFile(zip_file_path, 'r') as zip_ref:\n",
    "    zip_ref.extractall(extract_folder_path)\n"
   ]
  },
  {
   "cell_type": "code",
   "execution_count": null,
   "id": "27208c18",
   "metadata": {},
   "outputs": [],
   "source": []
  }
 ],
 "metadata": {
  "kernelspec": {
   "display_name": "Python 3 (ipykernel)",
   "language": "python",
   "name": "python3"
  },
  "language_info": {
   "codemirror_mode": {
    "name": "ipython",
    "version": 3
   },
   "file_extension": ".py",
   "mimetype": "text/x-python",
   "name": "python",
   "nbconvert_exporter": "python",
   "pygments_lexer": "ipython3",
   "version": "3.8.10"
  }
 },
 "nbformat": 4,
 "nbformat_minor": 5
}
